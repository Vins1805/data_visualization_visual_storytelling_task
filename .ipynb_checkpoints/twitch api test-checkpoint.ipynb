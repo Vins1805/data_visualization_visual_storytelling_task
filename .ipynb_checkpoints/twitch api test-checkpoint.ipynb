{
 "cells": [
  {
   "cell_type": "raw",
   "id": "390565a9",
   "metadata": {},
   "source": [
    "!pip install python-twitch-client"
   ]
  },
  {
   "cell_type": "code",
   "execution_count": null,
   "id": "150cc2b1",
   "metadata": {},
   "outputs": [],
   "source": []
  },
  {
   "cell_type": "code",
   "execution_count": null,
   "id": "02dd2245",
   "metadata": {},
   "outputs": [],
   "source": [
    "client = TwitchClient(client_id='<my client id>', oauth_token='<my oauth token>')"
   ]
  },
  {
   "cell_type": "code",
   "execution_count": null,
   "id": "f21b568c",
   "metadata": {},
   "outputs": [],
   "source": []
  },
  {
   "cell_type": "code",
   "execution_count": null,
   "id": "c45cb7e3",
   "metadata": {},
   "outputs": [],
   "source": []
  }
 ],
 "metadata": {
  "kernelspec": {
   "display_name": "data_vis_env",
   "language": "python",
   "name": "data_vis_env"
  },
  "language_info": {
   "codemirror_mode": {
    "name": "ipython",
    "version": 3
   },
   "file_extension": ".py",
   "mimetype": "text/x-python",
   "name": "python",
   "nbconvert_exporter": "python",
   "pygments_lexer": "ipython3",
   "version": "3.8.2"
  }
 },
 "nbformat": 4,
 "nbformat_minor": 5
}
