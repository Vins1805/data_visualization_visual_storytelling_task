{
 "cells": [
  {
   "cell_type": "raw",
   "id": "42aabe96",
   "metadata": {},
   "source": [
    "!pip install steam"
   ]
  },
  {
   "cell_type": "code",
   "execution_count": 3,
   "id": "851e5bc4",
   "metadata": {},
   "outputs": [],
   "source": [
    "from steam.steamid import SteamID"
   ]
  },
  {
   "cell_type": "code",
   "execution_count": 8,
   "id": "31612acb",
   "metadata": {},
   "outputs": [
    {
     "data": {
      "text/plain": [
       "SteamID(id=1466860, type='Individual', universe='Public', instance=1)"
      ]
     },
     "execution_count": 8,
     "metadata": {},
     "output_type": "execute_result"
    }
   ],
   "source": [
    "SteamID(\"1466860\")"
   ]
  },
  {
   "cell_type": "code",
   "execution_count": 5,
   "id": "91a8e47c",
   "metadata": {},
   "outputs": [],
   "source": [
    "aoe4 = \"https://store.steampowered.com/app/1466860/Age_of_Empires_IV/\""
   ]
  },
  {
   "cell_type": "code",
   "execution_count": 1,
   "id": "c74f0dad",
   "metadata": {},
   "outputs": [],
   "source": [
    "key = \"92CE6049F2F6A27EAEC2305C87694125\""
   ]
  },
  {
   "cell_type": "code",
   "execution_count": 6,
   "id": "5a9a20ca",
   "metadata": {},
   "outputs": [],
   "source": [
    "SteamID.from_url(aoe4)"
   ]
  },
  {
   "cell_type": "code",
   "execution_count": 7,
   "id": "2eae4cf2",
   "metadata": {},
   "outputs": [
    {
     "ename": "NameError",
     "evalue": "name 'steam' is not defined",
     "output_type": "error",
     "traceback": [
      "\u001b[0;31m---------------------------------------------------------------------------\u001b[0m",
      "\u001b[0;31mNameError\u001b[0m                                 Traceback (most recent call last)",
      "\u001b[0;32m/var/folders/9l/_rc8cxmx0tsdsgxhpjnq174h0000gn/T/ipykernel_62918/3827794941.py\u001b[0m in \u001b[0;36m<module>\u001b[0;34m\u001b[0m\n\u001b[0;32m----> 1\u001b[0;31m \u001b[0msteam\u001b[0m\u001b[0;34m.\u001b[0m\u001b[0msteamid\u001b[0m\u001b[0;34m.\u001b[0m\u001b[0mfrom_url\u001b[0m\u001b[0;34m(\u001b[0m\u001b[0maoe4\u001b[0m\u001b[0;34m)\u001b[0m\u001b[0;34m\u001b[0m\u001b[0;34m\u001b[0m\u001b[0m\n\u001b[0m",
      "\u001b[0;31mNameError\u001b[0m: name 'steam' is not defined"
     ]
    }
   ],
   "source": [
    "steam.steamid.from_url(aoe4)"
   ]
  },
  {
   "cell_type": "code",
   "execution_count": 10,
   "id": "7f3de5d4",
   "metadata": {},
   "outputs": [
    {
     "data": {
      "text/plain": [
       "'http://api.steampowered.com/ISteamUserStats/GetUserStatsForGame/v0002/?appid=1466860&key=92CE6049F2F6A27EAEC2305C87694125&steamid=76561197972495328'"
      ]
     },
     "execution_count": 10,
     "metadata": {},
     "output_type": "execute_result"
    }
   ],
   "source": [
    "f\"http://api.steampowered.com/ISteamUserStats/GetUserStatsForGame/v0002/?appid=1466860&key={key}&steamid=76561197972495328\""
   ]
  },
  {
   "cell_type": "code",
   "execution_count": 12,
   "id": "6615ec01",
   "metadata": {},
   "outputs": [],
   "source": [
    "import requests"
   ]
  },
  {
   "cell_type": "code",
   "execution_count": 35,
   "id": "a542512b",
   "metadata": {},
   "outputs": [],
   "source": [
    "csgo = requests.get(f\"http://api.steampowered.com/ISteamUserStats/GetUserStatsForGame/v0002/?appid=1466860&key={key}&steamid=110000106be3ab3\")\n"
   ]
  },
  {
   "cell_type": "code",
   "execution_count": 36,
   "id": "490e229f",
   "metadata": {},
   "outputs": [
    {
     "data": {
      "text/plain": [
       "<Response [500]>"
      ]
     },
     "execution_count": 36,
     "metadata": {},
     "output_type": "execute_result"
    }
   ],
   "source": [
    "csgo"
   ]
  },
  {
   "cell_type": "code",
   "execution_count": 30,
   "id": "b8c23885",
   "metadata": {},
   "outputs": [
    {
     "data": {
      "text/plain": [
       "'http://api.steampowered.com/ISteamUserStats/GetUserStatsForGame/v0002/?appid=1466860&key=92CE6049F2F6A27EAEC2305C87694125&steamid=76561198007104782'"
      ]
     },
     "execution_count": 30,
     "metadata": {},
     "output_type": "execute_result"
    }
   ],
   "source": [
    "f\"http://api.steampowered.com/ISteamUserStats/GetUserStatsForGame/v0002/?appid=1466860&key={key}&steamid=76561198007104782\""
   ]
  },
  {
   "cell_type": "code",
   "execution_count": null,
   "id": "9dc5fa52",
   "metadata": {},
   "outputs": [],
   "source": []
  }
 ],
 "metadata": {
  "kernelspec": {
   "display_name": "data_vis_env",
   "language": "python",
   "name": "data_vis_env"
  },
  "language_info": {
   "codemirror_mode": {
    "name": "ipython",
    "version": 3
   },
   "file_extension": ".py",
   "mimetype": "text/x-python",
   "name": "python",
   "nbconvert_exporter": "python",
   "pygments_lexer": "ipython3",
   "version": "3.8.2"
  }
 },
 "nbformat": 4,
 "nbformat_minor": 5
}
